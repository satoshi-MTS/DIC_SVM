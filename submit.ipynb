{
 "cells": [
  {
   "cell_type": "markdown",
   "id": "0d4d25c3-f9c0-465b-8162-f5465a2371f2",
   "metadata": {},
   "source": [
    "# 【問題1】ラグランジュの未定乗数法による最急降下\n",
    "SVMの学習は、ラグランジュの未定乗数法を用います。サンプル数分のラグランジュ乗数 \n",
    "λ\n",
    " を用意して、以下の式により更新していきます。この計算を行うメソッドをScratchSVMClassifierクラスに実装してください。\n",
    "\n",
    "$$\\lambda_i^{new} = \\lambda_i+\\alpha(1-\\sum_{j=1}^n\\lambda_i y_i y_j k(x_i,x_j))$$\n",
    "\n",
    "ここで\n",
    "$$k(x_i, x_j)=x_i^Tx_j$$\n",
    "条件として、更新毎に \n",
    "$$\\lambda_i>=0$$\n",
    "とします。"
   ]
  },
  {
   "cell_type": "markdown",
   "id": "28534b8e-eed5-46a5-95d4-71fcb05028d9",
   "metadata": {},
   "source": [
    "## SVMマーチン最大化の話\n",
    "\n",
    "\n",
    "\n",
    "$$1<=\\frac{t_i(w_i^TX_i+b)}{M||w_i||}$$\n",
    "となり、等号が成立し、なおかつ\n",
    "$$\\tilde{w}=\\frac{w}{M||w||}$$\n",
    "$$\\tilde{b}=\\frac{b}{M||w||}$$\n",
    "とおくのであれば\n",
    "$$1=t_i(\\tilde{w_i^T}X_i+\\tilde{b})$$\n",
    "が成立する。  \n",
    "この式を\n",
    "$$maxM : M<=\\frac{t_i(w_i^TX_i+b)}{||w_i||}$$に代入すると\n",
    "$$maxM : M=\\frac{1}{||w||}$$が得られる。\n",
    "最大化問題を最小化問題に変更し、なおかつ唯一解をもつ形に変更すると\n",
    "$$minM : M=\\frac{1}{2}||w||^2$$\n",
    "が得られる。  \n",
    "過程が違うだけで、やることは線形回帰と同じ。"
   ]
  },
  {
   "cell_type": "markdown",
   "id": "4eb5b608-a57d-4257-af37-f74379d79efa",
   "metadata": {},
   "source": [
    "## この式をラグランジュ関数に置き換える\n",
    "$$L(w, \\lambda) = \\frac{1}{2}||w||^2-\\sum_{i=1}^n \\lambda_i(y_i(w^T x_i)-1)$$\n",
    "これを解いて求まる解は元式を最小化する。この式を解くと\n",
    "$$w = \\sum_{i_1}^n \\lambda_i y_i x_i$$\n",
    "が求められて代入すると\n",
    "$$L(\\lambda_i) = \\sum_{j=1}^n\\lambda_i - \\sum_{i=1}^n\\sum_{j=1}^n\\lambda_i \\lambda_j y_i y_j k(x_i,x_j)$$\n",
    "がもとまる。\n",
    "ここで\n",
    "$$\\lambda = (\\lambda_i, \\lambda_j)$$\n",
    "のベクトルの大きさ？内積としているはず"
   ]
  },
  {
   "cell_type": "markdown",
   "id": "544bbeb9-b3e4-4bf2-ae0a-bcb534c91560",
   "metadata": {},
   "source": [
    "## 最急降下法に代入\n",
    "そもそも上の式がどう出てきてるのか調べてみる。  \n",
    "最急降下法の式としては\n",
    "$$\\theta^{new} = \\theta-\\alpha\\frac{d (目的関数)}{d\\theta}$$\n",
    "$\\sum$の中身は求めたい物の微分になる  \n",
    "もともとラグランジュの未定乗数法の求め方としては\n",
    "$$L(\\lambda_i) = \\sum_{j=1}^n\\lambda_i - \\sum_{i=1}^n\\sum_{j=1}^n\\lambda_i \\lambda_j y_i y_j k(x_i,x_j)$$\n",
    "この式を\n",
    "$\\lambda_i$で微分すると\n",
    "$$\\frac{d L(\\lambda_i)}{d\\lambda_i} = 1 - \\sum_{j=1}^n\\lambda_j y_i y_j k(x_i,x_j)$$\n",
    "の式が得られる。  \n",
    "これを最急降下法の式に代入したものが\n",
    "$$\\lambda_i^{new} = \\lambda_i-\\alpha(1-\\sum_{j=1}^n\\lambda_i y_i y_j k(x_i,x_j))$$\n",
    "になる。\n",
    "そもそもこの式は\n",
    "$$L(\\lambda_i) = \\sum_{j=1}^n\\lambda_i - \\sum_{i=1}^n\\sum_{j=1}^n\\lambda_i \\lambda_j y_i y_j k(x_i,x_j)$$\n",
    "を$\\lambda_i$で最小化する時の$\\lambda_i$を求める式になるが、そもそも求めたかったのは\n",
    "上の式をを最小化する$\\lambda_i, \\lambda_j$だったはず。"
   ]
  },
  {
   "cell_type": "markdown",
   "id": "ec57d981-a10f-4a16-b5ba-7030b0a194a9",
   "metadata": {},
   "source": [
    "ただよくわからんが、この問題は$\\lambda_i$を最大化する問題に書き換えることができる。（説明は省略）  \n",
    "そのため、降っていくイメージではなく登っていくイメージに変わるので\n",
    "$$\\lambda_i^{new} = \\lambda_i+\\alpha(1-\\sum_{j=1}^n\\lambda_i y_i y_j k(x_i,x_j))$$\n",
    "の式を解くことと同義となる。  \n",
    "$$\\lambda_i^{new} = \\lambda_i+\\alpha(1-\\sum_{j=1}^n\\lambda_j y_i y_j k(x_i,x_j))$$を整理すると\n",
    "$$\\lambda_i^{new} = \\lambda_i+\\alpha(1-(y_i*x_i\\sum_{j=1}^n\\lambda_j y_j x_j))$$\n",
    "\n",
    "\n",
    "\n",
    "$$\\sum_{j=1}^n\\lambda_j y_j x_j$$の意味がそこまで理解できてないのだけれど全ての値の合計値(スカラー値)になるはず？  \n",
    "つまりndarray.sum()で求めてしまって良い？"
   ]
  },
  {
   "cell_type": "code",
   "execution_count": 1,
   "id": "a2a89ed0-a402-4592-95e3-4dbe50e3c34d",
   "metadata": {},
   "outputs": [],
   "source": [
    "# 最大化する関数(勾配降下の逆)\n",
    "def _gradient_descent(X, y, lag, lr=0.1):\n",
    "    \"\"\"\n",
    "    傾きを計算する。\n",
    "    Parameters\n",
    "    ----------\n",
    "    X : 次の形のndarray, shape (n_samples, n_features)\n",
    "    訓練データ\n",
    "    y : 次の形のndarray, shape (n_samples, 1)\n",
    "    目的データ\n",
    "    lag : 次の形のndarray, shape(n_samples, 1)\n",
    "    ラグランジュ乗数\n",
    "    lr : float\n",
    "    学習率\n",
    "    Returns\n",
    "    -------\n",
    "    次の形のndarray, shape (n_samples, 1)\n",
    "    更新後のtheta\n",
    "    \"\"\"\n",
    "    \n",
    "    sigma = (lag * y * X).sum(axis=0)\n",
    "    lag = lag + lr * (1 - ((y * X) @ sigma).reshape((X.shape[0], 1)))\n",
    "    \n",
    "    for i in range(lag.shape[0]):\n",
    "        if lag[i] < 0:\n",
    "            lag[i] = 0\n",
    "        \n",
    "                 \n",
    "    # sigma = 1 * n_features\n",
    "    # y * X = n_sample * n_futures\n",
    "    \n",
    "    return lag"
   ]
  },
  {
   "cell_type": "markdown",
   "id": "593d7ad0-518c-4de0-a7c9-548b293a7143",
   "metadata": {},
   "source": [
    "# 【問題2】サポートベクターの決定\n",
    "計算したラグランジュ乗数 $\\lambda$ が設定した閾値より大きいサンプルをサポートベクターとして扱います。推定時にサポートベクターが必要になります。サポートベクターを決定し、インスタンス変数として保持しておくコードを書いてください。\n",
    "\n",
    "\n",
    "閾値はハイパーパラメータですが、1e-5程度からはじめると良いでしょう。サポートベクターの数を出力させられるようにしておくと学習がうまく行えているかを確認できます。"
   ]
  },
  {
   "cell_type": "code",
   "execution_count": 2,
   "id": "0d396fc7-e45e-4394-b575-ea0ed93c5171",
   "metadata": {},
   "outputs": [],
   "source": [
    "def get_SV(lag, C=1e-5):\n",
    "    \"\"\"\n",
    "    サポートベクターの数及びサポートベクターを取得する\n",
    "    parameters\n",
    "    ----------------------\n",
    "    lag : 次の形のndarray, shape(n_samples, 1)\n",
    "    ラグランジュ乗数\n",
    "    C : float\n",
    "    サポートベクターの閾値\n",
    "    \n",
    "    returns\n",
    "    ----------------------\n",
    "    count_sv : int\n",
    "    サポートベクターの数\n",
    "    SV_list : list\n",
    "    サポートベクターのリスト\n",
    "    \"\"\"\n",
    "    \n",
    "    \n",
    "    SV_list = []\n",
    "    count_sv = (lag > C).sum()\n",
    "    for i in range(lag.shape[0]):\n",
    "        if lag[i] > C:\n",
    "            SV_list.append(X[i])\n",
    "            \n",
    "    return count_sv, SV_list"
   ]
  },
  {
   "cell_type": "markdown",
   "id": "2169db95-83e5-4040-ad27-7eff4f688957",
   "metadata": {},
   "source": [
    "# 【問題3】推定\n",
    "推定時には、推定したいデータの特徴量とサポートベクターの特徴量をカーネル関数によって計算します。求めた \n",
    "f\n",
    "(\n",
    "x\n",
    ")\n",
    " の符号が分類結果です。"
   ]
  },
  {
   "cell_type": "markdown",
   "id": "2621079f-d164-4fec-80e2-802e9c6013a1",
   "metadata": {},
   "source": [
    "# 【問題4】学習と推定\n",
    "機械学習スクラッチ入門のSprintで用意したシンプルデータセット1の2値分類に対してスクラッチ実装の学習と推定を行なってください。\n",
    "\n",
    "\n",
    "scikit-learnによる実装と比べ、正しく動いているかを確認してください。\n",
    "\n",
    "\n",
    "AccuracyやPrecision、Recallなどの指標値はscikit-learnを使用してください。"
   ]
  },
  {
   "cell_type": "code",
   "execution_count": 3,
   "id": "c7210ce0-038f-46e5-8f6c-871e23f361de",
   "metadata": {},
   "outputs": [],
   "source": [
    "import numpy as np\n",
    "\n",
    "class ScratchSVMClassifier():\n",
    "    \"\"\"\n",
    "    SVM分類器のスクラッチ実装\n",
    "    Parameters\n",
    "    ----------\n",
    "    num_iter : int\n",
    "      イテレーション数\n",
    "    lr : float\n",
    "      学習率\n",
    "    kernel : str\n",
    "      カーネルの種類。線形カーネル（linear）か多項式カーネル（polly）\n",
    "    threshold : float\n",
    "      サポートベクターを選ぶための閾値\n",
    "    verbose : bool\n",
    "      学習過程を出力する場合はTrue\n",
    "    Attributes\n",
    "    ----------\n",
    "    self.n_support_vectors : int\n",
    "      サポートベクターの数\n",
    "    self.index_support_vectors : 次の形のndarray, shape (n_support_vectors,)\n",
    "      サポートベクターのインデックス\n",
    "    self.SV_X_ndarray : 次の形のndarray, shape(n_samples, n_feature)\n",
    "     サポートベクターの特徴量\n",
    "    self.SV_y_ndarray : 次の形のndarray, shape(n_samples, 1)\n",
    "     サポートベクターのラベル\n",
    "    self.SV_　lag_ndarray : 次の形のndarray, shape(n_samples, 1)\n",
    "     サポートベクターのラグランジュ乗数\n",
    "    \"\"\"\n",
    "    \n",
    "    \n",
    "    def __init__(self, num_iter, lr, kernel='linear', threshold=1e-5, verbose=False):\n",
    "        # ハイパーパラメータを属性として記録\n",
    "        self.iter = num_iter\n",
    "        self.lr = lr\n",
    "        self.kernel = kernel\n",
    "        self.threshold = threshold\n",
    "        self.verbose = verbose\n",
    "        \n",
    "        \n",
    "        # 最大化する関数(勾配降下の逆)\n",
    "    def _gradient_descent(self, X, y, lag):\n",
    "        \"\"\"\n",
    "        ラグランジュ関数の最大化を行う\n",
    "        Parameters\n",
    "        ----------\n",
    "        X : 次の形のndarray, shape (n_samples, n_features)\n",
    "        訓練データ\n",
    "        y : 次の形のndarray, shape (n_samples, 1)\n",
    "        目的データ\n",
    "        lag : 次の形のndarray, shape(n_samples, 1)\n",
    "        ラグランジュ乗数\n",
    "        lr : float\n",
    "        学習率\n",
    "        Returns\n",
    "        -------\n",
    "        次の形のndarray, shape (n_samples, 1)\n",
    "        更新後のラグランジュ関数\n",
    "        \"\"\"\n",
    "        \n",
    "        sigma = (lag * y * X).sum(axis=0)\n",
    "        lag = lag + self.lr * (1 - ((y * X) @ sigma).reshape((X.shape[0], 1)))\n",
    "        \n",
    "        for i in range(lag.shape[0]):\n",
    "            if lag[i] < 0:\n",
    "                lag[i] = 0\n",
    "        # sigma = 1 * n_features\n",
    "        # y * X = n_sample * n_futures\n",
    "\n",
    "        return lag\n",
    "\n",
    "    \n",
    "    def get_SV(self, X, y, lag):\n",
    "        \"\"\"\n",
    "        サポートベクターの数及びサポートベクターを取得する\n",
    "        parameters\n",
    "        ----------------------\n",
    "        lag : 次の形のndarray, shape(n_samples, 1)\n",
    "        ラグランジュ乗数\n",
    "        C : float\n",
    "        サポートベクターの閾値\n",
    "\n",
    "        returns\n",
    "        ----------------------\n",
    "        SV_X_ndarray : 次の形のndarray, shape(n_samples, n_feature)\n",
    "        サポートベクターの特徴量\n",
    "        SV_y_ndarray : 次の形のndarray, shape(n_samples, 1)\n",
    "        サポートベクターのラベル\n",
    "        SV_　lag_ndarray : 次の形のndarray, shape(n_samples, 1)\n",
    "        サポートベクターのラグランジュ乗数\n",
    "        \"\"\"\n",
    "        index_list = []\n",
    "        count = 0\n",
    "        # 閾値より高いラグランジュ乗数の個数\n",
    "        count_sv = (lag > self.threshold).sum()\n",
    "        \n",
    "        SV_X_ndarray = np.zeros((count_sv, X.shape[1]))\n",
    "        SV_y_ndarray = np.zeros((count_sv, 1))\n",
    "        SV_lag_ndarray = np.zeros((count_sv, 1))\n",
    "        \n",
    "        for i in range(lag.shape[0]):\n",
    "            \n",
    "            if lag[i] > self.threshold:\n",
    "                \n",
    "                # index番号を保存\n",
    "                index_list.append(i)\n",
    "                \n",
    "                # 閾値より高いサポートベクターのパラメータを保存\n",
    "                SV_X_ndarray[count] = X[i]\n",
    "                SV_y_ndarray[count] = y[i]\n",
    "                SV_lag_ndarray[count] = lag[i]\n",
    "                count += 1\n",
    "\n",
    "        # 使わないのでインスタンス化\n",
    "        self.n_support_vectors = count_sv\n",
    "        self.index_support_vectors  = index_list\n",
    "        \n",
    "        return SV_X_ndarray, SV_y_ndarray, SV_lag_ndarray\n",
    "        \n",
    "  \n",
    "    def fit(self, X, y):\n",
    "        \"\"\"\n",
    "        SVM分類器を学習する。検証データが入力された場合はそれに対する精度もイテレーションごとに計算する。\n",
    "        Parameters\n",
    "        ----------\n",
    "        X : 次の形のndarray, shape (n_samples, n_features)\n",
    "            訓練データの特徴量\n",
    "        y : 次の形のndarray, shape (n_samples, )\n",
    "            訓練データの正解値\n",
    "        \"\"\"\n",
    "        \n",
    "        # 初期値の設定\n",
    "        lag = np.zeros((X.shape[0], 1))\n",
    "        lag_history = np.zeros((self.iter, X.shape[0]))\n",
    "        \n",
    "        # yの設定\n",
    "        y = y.reshape((y.shape[0], 1))\n",
    "        \n",
    "        # 学習\n",
    "        for n in range(self.iter):\n",
    "            lag = self._gradient_descent(X, y, lag)\n",
    "            lag_history[n] = lag.T\n",
    "            \n",
    "        # SVの決定\n",
    "        self.SV_X_ndarray, self.SV_y_ndarray, self.SV_lag_ndarray = self.get_SV(X, y, lag)\n",
    "        \n",
    "        if self.verbose:\n",
    "            #verboseをTrueにした際は学習過程を出力\n",
    "            print(lag_history)\n",
    "        \n",
    "        \n",
    "    def predict(self, test_X):\n",
    "        \"\"\"\n",
    "        SVM分類器を使いラベルを推定する。\n",
    "        Parameters\n",
    "        ----------\n",
    "        X : 次の形のndarray, shape (n_samples, n_features)\n",
    "            サンプル\n",
    "        Returns\n",
    "        -------\n",
    "            次の形のndarray, shape (n_samples, 1)\n",
    "            SVM分類器による推定結果\n",
    "        \"\"\"\n",
    "    \n",
    "        f = np.zeros((test_X.shape[0], 1))\n",
    "\n",
    "        # テストデータ分推定の実行\n",
    "        for n in range(test_X.shape[0]):\n",
    "            f[n] = (self.SV_y_ndarray * self.SV_lag_ndarray * (self.SV_X_ndarray @ test_X[n:n+1].T)).sum()\n",
    "\n",
    "            if f[n] > 0:\n",
    "                f[n] = 1\n",
    "            else:\n",
    "                f[n] = -1\n",
    "\n",
    "        return f"
   ]
  },
  {
   "cell_type": "markdown",
   "id": "1397926a-2fcd-4435-a2aa-36a98813328c",
   "metadata": {},
   "source": [
    "## データの読み込み"
   ]
  },
  {
   "cell_type": "code",
   "execution_count": 4,
   "id": "1692d3c0-ec17-4581-9236-229a4108455a",
   "metadata": {},
   "outputs": [],
   "source": [
    "np.random.seed(seed=0)\n",
    "n_samples = 500\n",
    "f0 = [-1, 2]\n",
    "f1 = [2, -1]\n",
    "cov = [[1.0,0.8], [0.8, 1.0]]\n",
    "f0 = np.random.multivariate_normal(f0, cov, n_samples // 2)\n",
    "f1 = np.random.multivariate_normal(f1, cov, n_samples // 2)\n",
    "X = np.concatenate([f0, f1])\n",
    "y = np.concatenate([\n",
    "    np.full(n_samples // 2, 1),\n",
    "    np.full(n_samples // 2, -1)\n",
    "])"
   ]
  },
  {
   "cell_type": "code",
   "execution_count": 5,
   "id": "2e503e3e-18e9-47e2-bae1-f6a8854b42dc",
   "metadata": {},
   "outputs": [],
   "source": [
    "from sklearn.preprocessing import StandardScaler\n",
    "sclear = StandardScaler()\n",
    "X = sclear.fit_transform(X)"
   ]
  },
  {
   "cell_type": "code",
   "execution_count": 6,
   "id": "f9ad2496-cb66-4d7b-bbe5-0e1becdab1cb",
   "metadata": {},
   "outputs": [
    {
     "data": {
      "image/png": "[encoded data removed]",
      "text/plain": [
       "<Figure size 432x288 with 1 Axes>"
      ]
     },
     "metadata": {
      "needs_background": "light"
     },
     "output_type": "display_data"
    }
   ],
   "source": [
    "import matplotlib.pyplot as plt\n",
    "plt.hist(X);"
   ]
  },
  {
   "cell_type": "code",
   "execution_count": 7,
   "id": "c0d8e0a8-2132-4f3e-8a36-296ae5722274",
   "metadata": {},
   "outputs": [],
   "source": [
    "from sklearn.model_selection import train_test_split\n",
    "X_75, X_25 = train_test_split(X, random_state=0)\n",
    "y_75, y_25 = train_test_split(y, random_state=0)"
   ]
  },
  {
   "cell_type": "markdown",
   "id": "e3a75042-d4da-4068-9323-3ae6cad2a75e",
   "metadata": {},
   "source": [
    "## 公式モデルでの実行"
   ]
  },
  {
   "cell_type": "code",
   "execution_count": 8,
   "id": "27fa9bd6-1c88-4bd8-90ad-4f555e698d1e",
   "metadata": {},
   "outputs": [
    {
     "name": "stdout",
     "output_type": "stream",
     "text": [
      "              precision    recall  f1-score   support\n",
      "\n",
      "          -1       1.00      1.00      1.00        63\n",
      "           1       1.00      1.00      1.00        62\n",
      "\n",
      "    accuracy                           1.00       125\n",
      "   macro avg       1.00      1.00      1.00       125\n",
      "weighted avg       1.00      1.00      1.00       125\n",
      "\n"
     ]
    }
   ],
   "source": [
    "from sklearn.svm import SVC\n",
    "svc = SVC(kernel='linear', random_state=0)\n",
    "svc.fit(X_75, y_75)\n",
    "svc_pred = svc.predict(X_25)\n",
    "\n",
    "from sklearn.metrics import classification_report\n",
    "print(classification_report(y_25, svc_pred))"
   ]
  },
  {
   "cell_type": "code",
   "execution_count": 9,
   "id": "b00754c0-ddd6-4605-99ed-61d9e033aedb",
   "metadata": {},
   "outputs": [],
   "source": [
    "import matplotlib.pyplot as plt\n",
    "from matplotlib.colors import ListedColormap\n",
    "import matplotlib.patches as mpatches\n",
    "\n",
    "\n",
    "def decision_region(X, y, model, step=0.01, title='decision region', xlabel='x1', ylabel='x2', target_names=['0', '1']):\n",
    "    \"\"\"\n",
    "    2値分類を2次元の特徴量で学習したモデルの決定領域を描く。\n",
    "    背景の色が学習したモデルによる推定値から描画される。\n",
    "    散布図の点は訓練データまたは検証データである。\n",
    "    Parameters\n",
    "    ----------------\n",
    "    X : ndarray, shape(n_samples, 2)\n",
    "        特徴量\n",
    "    y : ndarray, shape(n_samples,)\n",
    "        ラベル\n",
    "    model : object\n",
    "        学習したモデルのインスンタスを入れる\n",
    "    step : float, (default : 0.1)\n",
    "        推定値を計算する間隔を設定する\n",
    "    title : str\n",
    "        グラフのタイトルの文章を与える\n",
    "    xlabel, ylabel : str\n",
    "        軸ラベルの文章を与える\n",
    "    target_names= : list of str\n",
    "        凡例の一覧を与える\n",
    "    \"\"\"\n",
    "    # setting\n",
    "    scatter_color = ['red', 'blue']\n",
    "    contourf_color = ['pink', 'skyblue']\n",
    "    n_class = 2\n",
    "    # pred\n",
    "    a = np.min(X[:,0])-0.5 # Sepallabelの最小値-0.5\n",
    "    b = np.max(X[:,0])+0.5 # Sepallabelの最大値+0.5\n",
    "    c = np.min(X[:,1])-0.5 # Petallabelの最小値-0.5\n",
    "    d = np.max(X[:,1])+0.5 # Petallabelの最小値+0.5\n",
    "    mesh_f0, mesh_f1  = np.meshgrid(np.arange(a, b, step), np.arange(c, d, step))\n",
    "    \n",
    "    e = np.ravel(mesh_f0) #列が全部指定したもの\n",
    "    f = np.ravel(mesh_f1) #行が全部指定したもの\n",
    "    \n",
    "    mesh = np.c_[e,f] # グラフ領域(2次元)に左上から00.01-といった形で数字をつけた\n",
    "    y_pred = model.predict(mesh).reshape(mesh_f0.shape)\n",
    "    # plot\n",
    "    plt.title(title)\n",
    "    plt.xlabel(xlabel)\n",
    "    plt.ylabel(ylabel)\n",
    "    plt.contourf(mesh_f0, mesh_f1, y_pred, n_class-1, cmap=ListedColormap(contourf_color)) # 等高線の間の色付\n",
    "    plt.contour(mesh_f0, mesh_f1, y_pred, n_class-1, colors='y', linewidths=3, alpha=0.5)# 等高線の描画\n",
    "    for i, target in enumerate(np.unique(y)):\n",
    "        plt.scatter(X[y==target][:, 0], X[y==target][:, 1], s=80, color=scatter_color[i], label=target_names[i], marker='o') # 散布図の作成\n",
    "    patches = [mpatches.Patch(color=scatter_color[i], label=target_names[i]) for i in range(n_class)] # よくわからんけど凡例の書き方を入れてる\n",
    "    plt.legend(handles=patches)\n",
    "    plt.legend()\n",
    "    plt.show()"
   ]
  },
  {
   "cell_type": "code",
   "execution_count": 10,
   "id": "fb34d399-6eca-491e-99a0-7aaef0a7821a",
   "metadata": {},
   "outputs": [
    {
     "data": {
      "image/png": "[encoded data removed]",
      "text/plain": [
       "<Figure size 432x288 with 1 Axes>"
      ]
     },
     "metadata": {
      "needs_background": "light"
     },
     "output_type": "display_data"
    }
   ],
   "source": [
    "decision_region(X_75, y_75, svc)"
   ]
  },
  {
   "cell_type": "markdown",
   "id": "7cbd4fd3-dc6b-41fb-9427-5e9b34fb37b9",
   "metadata": {},
   "source": [
    "## 自作モデルでの実行"
   ]
  },
  {
   "cell_type": "code",
   "execution_count": 11,
   "id": "bc03d3e1-b277-424d-a81a-b1ca054723ab",
   "metadata": {},
   "outputs": [],
   "source": [
    "my_svc = ScratchSVMClassifier(num_iter=100, lr=0.008)\n",
    "my_svc.fit(X_75, y_75)\n"
   ]
  },
  {
   "cell_type": "code",
   "execution_count": 13,
   "id": "24d1f843-cd04-42a2-a52c-f099dfa3ebcd",
   "metadata": {},
   "outputs": [
    {
     "data": {
      "text/plain": [
       "8"
      ]
     },
     "execution_count": 13,
     "metadata": {},
     "output_type": "execute_result"
    }
   ],
   "source": [
    "my_svc.n_support_vectors"
   ]
  },
  {
   "cell_type": "code",
   "execution_count": 14,
   "id": "c0e2e254-3e55-460c-8e41-08dc1dbe9634",
   "metadata": {},
   "outputs": [
    {
     "name": "stdout",
     "output_type": "stream",
     "text": [
      "              precision    recall  f1-score   support\n",
      "\n",
      "          -1       1.00      1.00      1.00        63\n",
      "           1       1.00      1.00      1.00        62\n",
      "\n",
      "    accuracy                           1.00       125\n",
      "   macro avg       1.00      1.00      1.00       125\n",
      "weighted avg       1.00      1.00      1.00       125\n",
      "\n"
     ]
    }
   ],
   "source": [
    "print(classification_report(y_25, my_svc.predict(X_25)))"
   ]
  },
  {
   "cell_type": "markdown",
   "id": "04177754-402c-466a-9069-fce0a20ba45a",
   "metadata": {},
   "source": [
    "公式モデルと変わらない出来栄えで分別ができた。"
   ]
  },
  {
   "cell_type": "markdown",
   "id": "dfbb819d-5de4-42e2-87bb-6728b440e750",
   "metadata": {},
   "source": [
    "# 【問題5】決定領域の可視化\n",
    "決定領域を可視化してください。\n",
    "\n",
    "\n",
    "以下の例のようにサポートベクターは異なる色で示してください。"
   ]
  },
  {
   "cell_type": "code",
   "execution_count": 16,
   "id": "9b513d9f-e228-4f9d-9087-ef8c63b54be6",
   "metadata": {},
   "outputs": [],
   "source": [
    "def decision_region_2(X, y, SV_index_list, model, step=0.01, title='decision region', xlabel='x1', ylabel='x2', target_names=['0', '1']):\n",
    "    \"\"\"\n",
    "    2値分類を2次元の特徴量で学習したモデルの決定領域を描く。\n",
    "    背景の色が学習したモデルによる推定値から描画される。\n",
    "    散布図の点は訓練データまたは検証データである。\n",
    "    Parameters\n",
    "    ----------------\n",
    "    X : ndarray, shape(n_samples, 2)\n",
    "        特徴量\n",
    "    y : ndarray, shape(n_samples,)\n",
    "        ラベル\n",
    "    model : object\n",
    "        学習したモデルのインスンタスを入れる\n",
    "    step : float, (default : 0.1)\n",
    "        推定値を計算する間隔を設定する\n",
    "    title : str\n",
    "        グラフのタイトルの文章を与える\n",
    "    xlabel, ylabel : str\n",
    "        軸ラベルの文章を与える\n",
    "    target_names= : list of str\n",
    "        凡例の一覧を与える\n",
    "    \"\"\"\n",
    "    # setting\n",
    "    scatter_color = ['red', 'blue']\n",
    "    contourf_color = ['pink', 'skyblue']\n",
    "    n_class = 2\n",
    "    # pred\n",
    "    a = np.min(X[:,0])-0.5 # Sepallabelの最小値-0.5\n",
    "    b = np.max(X[:,0])+0.5 # Sepallabelの最大値+0.5\n",
    "    c = np.min(X[:,1])-0.5 # Petallabelの最小値-0.5\n",
    "    d = np.max(X[:,1])+0.5 # Petallabelの最小値+0.5\n",
    "    mesh_f0, mesh_f1  = np.meshgrid(np.arange(a, b, step), np.arange(c, d, step))\n",
    "    \n",
    "    e = np.ravel(mesh_f0) #列が全部指定したもの\n",
    "    f = np.ravel(mesh_f1) #行が全部指定したもの\n",
    "    \n",
    "    mesh = np.c_[e,f] # グラフ領域(2次元)に左上から00.01-といった形で数字をつけた\n",
    "    y_pred = model.predict(mesh).reshape(mesh_f0.shape)\n",
    "    # plot\n",
    "    plt.title(title)\n",
    "    plt.xlabel(xlabel)\n",
    "    plt.ylabel(ylabel)\n",
    "    plt.contourf(mesh_f0, mesh_f1, y_pred, n_class-1, cmap=ListedColormap(contourf_color)) # 等高線の間の色付\n",
    "    plt.contour(mesh_f0, mesh_f1, y_pred, n_class-1, colors='y', linewidths=3, alpha=0.5)# 等高線の描画\n",
    "    for i, target in enumerate(np.unique(y)):\n",
    "        plt.scatter(X[y==target][:, 0], X[y==target][:, 1], s=80, color=scatter_color[i], label=target_names[i], marker='o') # 散布図の作成\n",
    "    for i in (SV_index_list):\n",
    "        plt.scatter(X[i, 0], X[i, 1], color='g', s=100)\n",
    "    patches = [mpatches.Patch(color=scatter_color[i], label=target_names[i]) for i in range(n_class)] # よくわからんけど凡例の書き方を入れてる\n",
    "    plt.legend(handles=patches)\n",
    "    plt.legend()\n",
    "    plt.show()"
   ]
  },
  {
   "cell_type": "code",
   "execution_count": 18,
   "id": "939f0768-e969-4007-877d-935eaf1ef089",
   "metadata": {},
   "outputs": [
    {
     "data": {
      "text/plain": [
       "[27, 44, 60, 181, 192, 278, 290, 363]"
      ]
     },
     "execution_count": 18,
     "metadata": {},
     "output_type": "execute_result"
    }
   ],
   "source": [
    "my_svc.index_support_vectors"
   ]
  },
  {
   "cell_type": "code",
   "execution_count": 19,
   "id": "bd4ad4fb-fc57-49a6-9144-04ba69ba3f3f",
   "metadata": {},
   "outputs": [
    {
     "data": {
      "image/png": "[encoded data removed]",
      "text/plain": [
       "<Figure size 432x288 with 1 Axes>"
      ]
     },
     "metadata": {
      "needs_background": "light"
     },
     "output_type": "display_data"
    }
   ],
   "source": [
    "decision_region_2(X_75, y_75, my_svc.index_support_vectors, my_svc)"
   ]
  }
 ],
 "metadata": {
  "kernelspec": {
   "display_name": "Python 3",
   "language": "python",
   "name": "python3"
  },
  "language_info": {
   "codemirror_mode": {
    "name": "ipython",
    "version": 3
   },
   "file_extension": ".py",
   "mimetype": "text/x-python",
   "name": "python",
   "nbconvert_exporter": "python",
   "pygments_lexer": "ipython3",
   "version": "3.8.8"
  }
 },
 "nbformat": 4,
 "nbformat_minor": 5
}
